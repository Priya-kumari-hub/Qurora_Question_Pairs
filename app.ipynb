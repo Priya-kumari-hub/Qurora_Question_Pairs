{
 "cells": [
  {
   "cell_type": "code",
   "execution_count": 11,
   "id": "45b89571-e79a-4ef6-9d69-b9722da97adb",
   "metadata": {},
   "outputs": [
    {
     "name": "stderr",
     "output_type": "stream",
     "text": [
      "2025-07-02 09:49:06.004 \n",
      "  \u001b[33m\u001b[1mWarning:\u001b[0m to view this Streamlit app on a browser, run it with the following\n",
      "  command:\n",
      "\n",
      "    streamlit run C:\\Users\\priya\\AppData\\Roaming\\Python\\Python312\\site-packages\\ipykernel_launcher.py [ARGUMENTS]\n",
      "2025-07-02 09:49:06.014 Session state does not function when running a script without `streamlit run`\n"
     ]
    }
   ],
   "source": [
    "import streamlit as st\n",
    "import helper \n",
    "import pickle\n",
    "\n",
    "model = pickle.load(open('quora_xgb_model.pkl','rb'))\n",
    "\n",
    "st.header('Duplicate Question Pairs')\n",
    "\n",
    "q1 = st.text_input('Enter question 1')\n",
    "q2 = st.text_input('Enter question 2')\n",
    "\n",
    "if st.button('Find'):\n",
    "    query = helper.query_point_creator(q1,q2)\n",
    "    result = model.predict(query)[0]\n",
    "\n",
    "    if result:\n",
    "        st.header('Duplicate')\n",
    "    else:\n",
    "        st.header('Not Duplicate')"
   ]
  },
  {
   "cell_type": "code",
   "execution_count": null,
   "id": "f331ccd6-7208-4076-806f-a3ed5a80df77",
   "metadata": {},
   "outputs": [],
   "source": []
  }
 ],
 "metadata": {
  "kernelspec": {
   "display_name": "Python 3 (ipykernel)",
   "language": "python",
   "name": "python3"
  },
  "language_info": {
   "codemirror_mode": {
    "name": "ipython",
    "version": 3
   },
   "file_extension": ".py",
   "mimetype": "text/x-python",
   "name": "python",
   "nbconvert_exporter": "python",
   "pygments_lexer": "ipython3",
   "version": "3.12.7"
  }
 },
 "nbformat": 4,
 "nbformat_minor": 5
}
